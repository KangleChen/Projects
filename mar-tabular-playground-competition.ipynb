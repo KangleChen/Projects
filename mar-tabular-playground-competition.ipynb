{
 "cells": [
  {
   "cell_type": "code",
   "execution_count": 1,
   "metadata": {
    "_cell_guid": "b1076dfc-b9ad-4769-8c92-a6c4dae69d19",
    "_uuid": "8f2839f25d086af736a60e9eeb907d3b93b6e0e5",
    "execution": {
     "iopub.execute_input": "2021-03-14T14:09:06.640438Z",
     "iopub.status.busy": "2021-03-14T14:09:06.639441Z",
     "iopub.status.idle": "2021-03-14T14:09:08.455292Z",
     "shell.execute_reply": "2021-03-14T14:09:08.455783Z"
    },
    "papermill": {
     "duration": 1.84739,
     "end_time": "2021-03-14T14:09:08.456232",
     "exception": false,
     "start_time": "2021-03-14T14:09:06.608842",
     "status": "completed"
    },
    "tags": []
   },
   "outputs": [
    {
     "name": "stdout",
     "output_type": "stream",
     "text": [
      "/kaggle/input/tabular-playground-series-mar-2021/sample_submission.csv\n",
      "/kaggle/input/tabular-playground-series-mar-2021/train.csv\n",
      "/kaggle/input/tabular-playground-series-mar-2021/test.csv\n"
     ]
    }
   ],
   "source": [
    "import numpy as np\n",
    "import pandas as pd\n",
    "\n",
    "from pathlib import Path\n",
    "\n",
    "import os\n",
    "for dirname, _, filenames in os.walk('/kaggle/input'):\n",
    "    for filename in filenames:\n",
    "        print(os.path.join(dirname, filename))\n",
    "        \n",
    "import matplotlib.pyplot as plt\n",
    "import seaborn as sns\n",
    "%matplotlib inline\n",
    "\n",
    "\n",
    "from sklearn.model_selection import train_test_split\n",
    "from sklearn.metrics import roc_auc_score\n",
    "from sklearn.preprocessing import LabelEncoder, OneHotEncoder\n",
    "\n",
    "from sklearn.ensemble import RandomForestClassifier\n",
    "from xgboost import XGBClassifier\n",
    "        \n",
    "input_path = Path('/kaggle/input/tabular-playground-series-mar-2021/')"
   ]
  },
  {
   "cell_type": "markdown",
   "metadata": {
    "papermill": {
     "duration": 0.018775,
     "end_time": "2021-03-14T14:09:08.494274",
     "exception": false,
     "start_time": "2021-03-14T14:09:08.475499",
     "status": "completed"
    },
    "tags": []
   },
   "source": [
    "## 1. Read in the data files"
   ]
  },
  {
   "cell_type": "code",
   "execution_count": 2,
   "metadata": {
    "execution": {
     "iopub.execute_input": "2021-03-14T14:09:08.535780Z",
     "iopub.status.busy": "2021-03-14T14:09:08.535140Z",
     "iopub.status.idle": "2021-03-14T14:09:10.971879Z",
     "shell.execute_reply": "2021-03-14T14:09:10.970868Z"
    },
    "papermill": {
     "duration": 2.459109,
     "end_time": "2021-03-14T14:09:10.972054",
     "exception": false,
     "start_time": "2021-03-14T14:09:08.512945",
     "status": "completed"
    },
    "tags": []
   },
   "outputs": [
    {
     "data": {
      "text/html": [
       "<div>\n",
       "<style scoped>\n",
       "    .dataframe tbody tr th:only-of-type {\n",
       "        vertical-align: middle;\n",
       "    }\n",
       "\n",
       "    .dataframe tbody tr th {\n",
       "        vertical-align: top;\n",
       "    }\n",
       "\n",
       "    .dataframe thead th {\n",
       "        text-align: right;\n",
       "    }\n",
       "</style>\n",
       "<table border=\"1\" class=\"dataframe\">\n",
       "  <thead>\n",
       "    <tr style=\"text-align: right;\">\n",
       "      <th></th>\n",
       "      <th>cat0</th>\n",
       "      <th>cat1</th>\n",
       "      <th>cat2</th>\n",
       "      <th>cat3</th>\n",
       "      <th>cat4</th>\n",
       "      <th>cat5</th>\n",
       "      <th>cat6</th>\n",
       "      <th>cat7</th>\n",
       "      <th>cat8</th>\n",
       "      <th>cat9</th>\n",
       "      <th>...</th>\n",
       "      <th>cont2</th>\n",
       "      <th>cont3</th>\n",
       "      <th>cont4</th>\n",
       "      <th>cont5</th>\n",
       "      <th>cont6</th>\n",
       "      <th>cont7</th>\n",
       "      <th>cont8</th>\n",
       "      <th>cont9</th>\n",
       "      <th>cont10</th>\n",
       "      <th>target</th>\n",
       "    </tr>\n",
       "    <tr>\n",
       "      <th>id</th>\n",
       "      <th></th>\n",
       "      <th></th>\n",
       "      <th></th>\n",
       "      <th></th>\n",
       "      <th></th>\n",
       "      <th></th>\n",
       "      <th></th>\n",
       "      <th></th>\n",
       "      <th></th>\n",
       "      <th></th>\n",
       "      <th></th>\n",
       "      <th></th>\n",
       "      <th></th>\n",
       "      <th></th>\n",
       "      <th></th>\n",
       "      <th></th>\n",
       "      <th></th>\n",
       "      <th></th>\n",
       "      <th></th>\n",
       "      <th></th>\n",
       "      <th></th>\n",
       "    </tr>\n",
       "  </thead>\n",
       "  <tbody>\n",
       "    <tr>\n",
       "      <th>0</th>\n",
       "      <td>A</td>\n",
       "      <td>I</td>\n",
       "      <td>A</td>\n",
       "      <td>B</td>\n",
       "      <td>B</td>\n",
       "      <td>BI</td>\n",
       "      <td>A</td>\n",
       "      <td>S</td>\n",
       "      <td>Q</td>\n",
       "      <td>A</td>\n",
       "      <td>...</td>\n",
       "      <td>0.759439</td>\n",
       "      <td>0.795549</td>\n",
       "      <td>0.681917</td>\n",
       "      <td>0.621672</td>\n",
       "      <td>0.592184</td>\n",
       "      <td>0.791921</td>\n",
       "      <td>0.815254</td>\n",
       "      <td>0.965006</td>\n",
       "      <td>0.665915</td>\n",
       "      <td>0</td>\n",
       "    </tr>\n",
       "    <tr>\n",
       "      <th>1</th>\n",
       "      <td>A</td>\n",
       "      <td>I</td>\n",
       "      <td>A</td>\n",
       "      <td>A</td>\n",
       "      <td>E</td>\n",
       "      <td>BI</td>\n",
       "      <td>K</td>\n",
       "      <td>W</td>\n",
       "      <td>AD</td>\n",
       "      <td>F</td>\n",
       "      <td>...</td>\n",
       "      <td>0.386385</td>\n",
       "      <td>0.541366</td>\n",
       "      <td>0.388982</td>\n",
       "      <td>0.357778</td>\n",
       "      <td>0.600044</td>\n",
       "      <td>0.408701</td>\n",
       "      <td>0.399353</td>\n",
       "      <td>0.927406</td>\n",
       "      <td>0.493729</td>\n",
       "      <td>0</td>\n",
       "    </tr>\n",
       "    <tr>\n",
       "      <th>2</th>\n",
       "      <td>A</td>\n",
       "      <td>K</td>\n",
       "      <td>A</td>\n",
       "      <td>A</td>\n",
       "      <td>E</td>\n",
       "      <td>BI</td>\n",
       "      <td>A</td>\n",
       "      <td>E</td>\n",
       "      <td>BM</td>\n",
       "      <td>L</td>\n",
       "      <td>...</td>\n",
       "      <td>0.343255</td>\n",
       "      <td>0.616352</td>\n",
       "      <td>0.793687</td>\n",
       "      <td>0.552877</td>\n",
       "      <td>0.352113</td>\n",
       "      <td>0.388835</td>\n",
       "      <td>0.412303</td>\n",
       "      <td>0.292696</td>\n",
       "      <td>0.549452</td>\n",
       "      <td>0</td>\n",
       "    </tr>\n",
       "    <tr>\n",
       "      <th>3</th>\n",
       "      <td>A</td>\n",
       "      <td>K</td>\n",
       "      <td>A</td>\n",
       "      <td>C</td>\n",
       "      <td>E</td>\n",
       "      <td>BI</td>\n",
       "      <td>A</td>\n",
       "      <td>Y</td>\n",
       "      <td>AD</td>\n",
       "      <td>F</td>\n",
       "      <td>...</td>\n",
       "      <td>0.831147</td>\n",
       "      <td>0.807807</td>\n",
       "      <td>0.800032</td>\n",
       "      <td>0.619147</td>\n",
       "      <td>0.221789</td>\n",
       "      <td>0.897617</td>\n",
       "      <td>0.633669</td>\n",
       "      <td>0.760318</td>\n",
       "      <td>0.934242</td>\n",
       "      <td>0</td>\n",
       "    </tr>\n",
       "    <tr>\n",
       "      <th>4</th>\n",
       "      <td>A</td>\n",
       "      <td>I</td>\n",
       "      <td>G</td>\n",
       "      <td>B</td>\n",
       "      <td>E</td>\n",
       "      <td>BI</td>\n",
       "      <td>C</td>\n",
       "      <td>G</td>\n",
       "      <td>Q</td>\n",
       "      <td>A</td>\n",
       "      <td>...</td>\n",
       "      <td>0.338818</td>\n",
       "      <td>0.277308</td>\n",
       "      <td>0.610578</td>\n",
       "      <td>0.128291</td>\n",
       "      <td>0.578764</td>\n",
       "      <td>0.279167</td>\n",
       "      <td>0.351103</td>\n",
       "      <td>0.357084</td>\n",
       "      <td>0.328960</td>\n",
       "      <td>1</td>\n",
       "    </tr>\n",
       "  </tbody>\n",
       "</table>\n",
       "<p>5 rows × 31 columns</p>\n",
       "</div>"
      ],
      "text/plain": [
       "   cat0 cat1 cat2 cat3 cat4 cat5 cat6 cat7 cat8 cat9  ...     cont2     cont3  \\\n",
       "id                                                    ...                       \n",
       "0     A    I    A    B    B   BI    A    S    Q    A  ...  0.759439  0.795549   \n",
       "1     A    I    A    A    E   BI    K    W   AD    F  ...  0.386385  0.541366   \n",
       "2     A    K    A    A    E   BI    A    E   BM    L  ...  0.343255  0.616352   \n",
       "3     A    K    A    C    E   BI    A    Y   AD    F  ...  0.831147  0.807807   \n",
       "4     A    I    G    B    E   BI    C    G    Q    A  ...  0.338818  0.277308   \n",
       "\n",
       "       cont4     cont5     cont6     cont7     cont8     cont9    cont10  \\\n",
       "id                                                                         \n",
       "0   0.681917  0.621672  0.592184  0.791921  0.815254  0.965006  0.665915   \n",
       "1   0.388982  0.357778  0.600044  0.408701  0.399353  0.927406  0.493729   \n",
       "2   0.793687  0.552877  0.352113  0.388835  0.412303  0.292696  0.549452   \n",
       "3   0.800032  0.619147  0.221789  0.897617  0.633669  0.760318  0.934242   \n",
       "4   0.610578  0.128291  0.578764  0.279167  0.351103  0.357084  0.328960   \n",
       "\n",
       "    target  \n",
       "id          \n",
       "0        0  \n",
       "1        0  \n",
       "2        0  \n",
       "3        0  \n",
       "4        1  \n",
       "\n",
       "[5 rows x 31 columns]"
      ]
     },
     "metadata": {},
     "output_type": "display_data"
    }
   ],
   "source": [
    "train = pd.read_csv(input_path / 'train.csv', index_col='id')\n",
    "display(train.head())"
   ]
  },
  {
   "cell_type": "code",
   "execution_count": 3,
   "metadata": {
    "execution": {
     "iopub.execute_input": "2021-03-14T14:09:11.019219Z",
     "iopub.status.busy": "2021-03-14T14:09:11.018359Z",
     "iopub.status.idle": "2021-03-14T14:09:11.022647Z",
     "shell.execute_reply": "2021-03-14T14:09:11.022113Z"
    },
    "papermill": {
     "duration": 0.031192,
     "end_time": "2021-03-14T14:09:11.022787",
     "exception": false,
     "start_time": "2021-03-14T14:09:10.991595",
     "status": "completed"
    },
    "tags": []
   },
   "outputs": [
    {
     "data": {
      "text/plain": [
       "Index(['cat0', 'cat1', 'cat2', 'cat3', 'cat4', 'cat5', 'cat6', 'cat7', 'cat8',\n",
       "       'cat9', 'cat10', 'cat11', 'cat12', 'cat13', 'cat14', 'cat15', 'cat16',\n",
       "       'cat17', 'cat18', 'cont0', 'cont1', 'cont2', 'cont3', 'cont4', 'cont5',\n",
       "       'cont6', 'cont7', 'cont8', 'cont9', 'cont10', 'target'],\n",
       "      dtype='object')"
      ]
     },
     "execution_count": 3,
     "metadata": {},
     "output_type": "execute_result"
    }
   ],
   "source": [
    "train.columns"
   ]
  },
  {
   "cell_type": "code",
   "execution_count": 4,
   "metadata": {
    "execution": {
     "iopub.execute_input": "2021-03-14T14:09:11.068264Z",
     "iopub.status.busy": "2021-03-14T14:09:11.067617Z",
     "iopub.status.idle": "2021-03-14T14:09:12.734569Z",
     "shell.execute_reply": "2021-03-14T14:09:12.733871Z"
    },
    "papermill": {
     "duration": 1.691788,
     "end_time": "2021-03-14T14:09:12.734729",
     "exception": false,
     "start_time": "2021-03-14T14:09:11.042941",
     "status": "completed"
    },
    "tags": []
   },
   "outputs": [
    {
     "data": {
      "text/html": [
       "<div>\n",
       "<style scoped>\n",
       "    .dataframe tbody tr th:only-of-type {\n",
       "        vertical-align: middle;\n",
       "    }\n",
       "\n",
       "    .dataframe tbody tr th {\n",
       "        vertical-align: top;\n",
       "    }\n",
       "\n",
       "    .dataframe thead th {\n",
       "        text-align: right;\n",
       "    }\n",
       "</style>\n",
       "<table border=\"1\" class=\"dataframe\">\n",
       "  <thead>\n",
       "    <tr style=\"text-align: right;\">\n",
       "      <th></th>\n",
       "      <th>cat0</th>\n",
       "      <th>cat1</th>\n",
       "      <th>cat2</th>\n",
       "      <th>cat3</th>\n",
       "      <th>cat4</th>\n",
       "      <th>cat5</th>\n",
       "      <th>cat6</th>\n",
       "      <th>cat7</th>\n",
       "      <th>cat8</th>\n",
       "      <th>cat9</th>\n",
       "      <th>...</th>\n",
       "      <th>cont1</th>\n",
       "      <th>cont2</th>\n",
       "      <th>cont3</th>\n",
       "      <th>cont4</th>\n",
       "      <th>cont5</th>\n",
       "      <th>cont6</th>\n",
       "      <th>cont7</th>\n",
       "      <th>cont8</th>\n",
       "      <th>cont9</th>\n",
       "      <th>cont10</th>\n",
       "    </tr>\n",
       "    <tr>\n",
       "      <th>id</th>\n",
       "      <th></th>\n",
       "      <th></th>\n",
       "      <th></th>\n",
       "      <th></th>\n",
       "      <th></th>\n",
       "      <th></th>\n",
       "      <th></th>\n",
       "      <th></th>\n",
       "      <th></th>\n",
       "      <th></th>\n",
       "      <th></th>\n",
       "      <th></th>\n",
       "      <th></th>\n",
       "      <th></th>\n",
       "      <th></th>\n",
       "      <th></th>\n",
       "      <th></th>\n",
       "      <th></th>\n",
       "      <th></th>\n",
       "      <th></th>\n",
       "      <th></th>\n",
       "    </tr>\n",
       "  </thead>\n",
       "  <tbody>\n",
       "    <tr>\n",
       "      <th>5</th>\n",
       "      <td>A</td>\n",
       "      <td>F</td>\n",
       "      <td>A</td>\n",
       "      <td>A</td>\n",
       "      <td>F</td>\n",
       "      <td>BI</td>\n",
       "      <td>A</td>\n",
       "      <td>AH</td>\n",
       "      <td>AX</td>\n",
       "      <td>A</td>\n",
       "      <td>...</td>\n",
       "      <td>0.735690</td>\n",
       "      <td>0.578366</td>\n",
       "      <td>0.723154</td>\n",
       "      <td>0.228037</td>\n",
       "      <td>0.356227</td>\n",
       "      <td>0.551249</td>\n",
       "      <td>0.655693</td>\n",
       "      <td>0.598331</td>\n",
       "      <td>0.359987</td>\n",
       "      <td>0.947489</td>\n",
       "    </tr>\n",
       "    <tr>\n",
       "      <th>6</th>\n",
       "      <td>A</td>\n",
       "      <td>H</td>\n",
       "      <td>C</td>\n",
       "      <td>A</td>\n",
       "      <td>E</td>\n",
       "      <td>AB</td>\n",
       "      <td>I</td>\n",
       "      <td>F</td>\n",
       "      <td>N</td>\n",
       "      <td>A</td>\n",
       "      <td>...</td>\n",
       "      <td>0.313703</td>\n",
       "      <td>0.928885</td>\n",
       "      <td>0.516602</td>\n",
       "      <td>0.600169</td>\n",
       "      <td>0.795224</td>\n",
       "      <td>0.248987</td>\n",
       "      <td>0.654614</td>\n",
       "      <td>0.347944</td>\n",
       "      <td>0.565520</td>\n",
       "      <td>0.388580</td>\n",
       "    </tr>\n",
       "    <tr>\n",
       "      <th>8</th>\n",
       "      <td>A</td>\n",
       "      <td>N</td>\n",
       "      <td>C</td>\n",
       "      <td>A</td>\n",
       "      <td>F</td>\n",
       "      <td>AB</td>\n",
       "      <td>A</td>\n",
       "      <td>AH</td>\n",
       "      <td>BC</td>\n",
       "      <td>A</td>\n",
       "      <td>...</td>\n",
       "      <td>0.448201</td>\n",
       "      <td>0.424876</td>\n",
       "      <td>0.344729</td>\n",
       "      <td>0.242073</td>\n",
       "      <td>0.270632</td>\n",
       "      <td>0.746740</td>\n",
       "      <td>0.335590</td>\n",
       "      <td>0.341238</td>\n",
       "      <td>0.252289</td>\n",
       "      <td>0.411592</td>\n",
       "    </tr>\n",
       "    <tr>\n",
       "      <th>9</th>\n",
       "      <td>B</td>\n",
       "      <td>L</td>\n",
       "      <td>C</td>\n",
       "      <td>A</td>\n",
       "      <td>F</td>\n",
       "      <td>BI</td>\n",
       "      <td>A</td>\n",
       "      <td>E</td>\n",
       "      <td>AX</td>\n",
       "      <td>A</td>\n",
       "      <td>...</td>\n",
       "      <td>0.666092</td>\n",
       "      <td>0.598943</td>\n",
       "      <td>0.561971</td>\n",
       "      <td>0.806347</td>\n",
       "      <td>0.735983</td>\n",
       "      <td>0.538724</td>\n",
       "      <td>0.381566</td>\n",
       "      <td>0.481660</td>\n",
       "      <td>0.348514</td>\n",
       "      <td>0.325723</td>\n",
       "    </tr>\n",
       "    <tr>\n",
       "      <th>11</th>\n",
       "      <td>A</td>\n",
       "      <td>F</td>\n",
       "      <td>A</td>\n",
       "      <td>B</td>\n",
       "      <td>F</td>\n",
       "      <td>BI</td>\n",
       "      <td>A</td>\n",
       "      <td>AH</td>\n",
       "      <td>I</td>\n",
       "      <td>A</td>\n",
       "      <td>...</td>\n",
       "      <td>0.772229</td>\n",
       "      <td>0.479572</td>\n",
       "      <td>0.767745</td>\n",
       "      <td>0.252454</td>\n",
       "      <td>0.354810</td>\n",
       "      <td>0.178920</td>\n",
       "      <td>0.763479</td>\n",
       "      <td>0.562491</td>\n",
       "      <td>0.466261</td>\n",
       "      <td>0.585781</td>\n",
       "    </tr>\n",
       "  </tbody>\n",
       "</table>\n",
       "<p>5 rows × 30 columns</p>\n",
       "</div>"
      ],
      "text/plain": [
       "   cat0 cat1 cat2 cat3 cat4 cat5 cat6 cat7 cat8 cat9  ...     cont1     cont2  \\\n",
       "id                                                    ...                       \n",
       "5     A    F    A    A    F   BI    A   AH   AX    A  ...  0.735690  0.578366   \n",
       "6     A    H    C    A    E   AB    I    F    N    A  ...  0.313703  0.928885   \n",
       "8     A    N    C    A    F   AB    A   AH   BC    A  ...  0.448201  0.424876   \n",
       "9     B    L    C    A    F   BI    A    E   AX    A  ...  0.666092  0.598943   \n",
       "11    A    F    A    B    F   BI    A   AH    I    A  ...  0.772229  0.479572   \n",
       "\n",
       "       cont3     cont4     cont5     cont6     cont7     cont8     cont9  \\\n",
       "id                                                                         \n",
       "5   0.723154  0.228037  0.356227  0.551249  0.655693  0.598331  0.359987   \n",
       "6   0.516602  0.600169  0.795224  0.248987  0.654614  0.347944  0.565520   \n",
       "8   0.344729  0.242073  0.270632  0.746740  0.335590  0.341238  0.252289   \n",
       "9   0.561971  0.806347  0.735983  0.538724  0.381566  0.481660  0.348514   \n",
       "11  0.767745  0.252454  0.354810  0.178920  0.763479  0.562491  0.466261   \n",
       "\n",
       "      cont10  \n",
       "id            \n",
       "5   0.947489  \n",
       "6   0.388580  \n",
       "8   0.411592  \n",
       "9   0.325723  \n",
       "11  0.585781  \n",
       "\n",
       "[5 rows x 30 columns]"
      ]
     },
     "metadata": {},
     "output_type": "display_data"
    }
   ],
   "source": [
    "test = pd.read_csv(input_path / 'test.csv', index_col='id')\n",
    "display(test.head())"
   ]
  },
  {
   "cell_type": "code",
   "execution_count": 5,
   "metadata": {
    "execution": {
     "iopub.execute_input": "2021-03-14T14:09:12.783515Z",
     "iopub.status.busy": "2021-03-14T14:09:12.782813Z",
     "iopub.status.idle": "2021-03-14T14:09:12.881296Z",
     "shell.execute_reply": "2021-03-14T14:09:12.880617Z"
    },
    "papermill": {
     "duration": 0.125557,
     "end_time": "2021-03-14T14:09:12.881443",
     "exception": false,
     "start_time": "2021-03-14T14:09:12.755886",
     "status": "completed"
    },
    "tags": []
   },
   "outputs": [
    {
     "data": {
      "text/html": [
       "<div>\n",
       "<style scoped>\n",
       "    .dataframe tbody tr th:only-of-type {\n",
       "        vertical-align: middle;\n",
       "    }\n",
       "\n",
       "    .dataframe tbody tr th {\n",
       "        vertical-align: top;\n",
       "    }\n",
       "\n",
       "    .dataframe thead th {\n",
       "        text-align: right;\n",
       "    }\n",
       "</style>\n",
       "<table border=\"1\" class=\"dataframe\">\n",
       "  <thead>\n",
       "    <tr style=\"text-align: right;\">\n",
       "      <th></th>\n",
       "      <th>target</th>\n",
       "    </tr>\n",
       "    <tr>\n",
       "      <th>id</th>\n",
       "      <th></th>\n",
       "    </tr>\n",
       "  </thead>\n",
       "  <tbody>\n",
       "    <tr>\n",
       "      <th>5</th>\n",
       "      <td>0.5</td>\n",
       "    </tr>\n",
       "    <tr>\n",
       "      <th>6</th>\n",
       "      <td>0.5</td>\n",
       "    </tr>\n",
       "    <tr>\n",
       "      <th>8</th>\n",
       "      <td>0.5</td>\n",
       "    </tr>\n",
       "    <tr>\n",
       "      <th>9</th>\n",
       "      <td>0.5</td>\n",
       "    </tr>\n",
       "    <tr>\n",
       "      <th>11</th>\n",
       "      <td>0.5</td>\n",
       "    </tr>\n",
       "  </tbody>\n",
       "</table>\n",
       "</div>"
      ],
      "text/plain": [
       "    target\n",
       "id        \n",
       "5      0.5\n",
       "6      0.5\n",
       "8      0.5\n",
       "9      0.5\n",
       "11     0.5"
      ]
     },
     "metadata": {},
     "output_type": "display_data"
    }
   ],
   "source": [
    "submission = pd.read_csv(input_path / 'sample_submission.csv', index_col='id')\n",
    "display(submission.head())"
   ]
  },
  {
   "cell_type": "markdown",
   "metadata": {
    "papermill": {
     "duration": 0.021867,
     "end_time": "2021-03-14T14:09:12.927530",
     "exception": false,
     "start_time": "2021-03-14T14:09:12.905663",
     "status": "completed"
    },
    "tags": []
   },
   "source": [
    "## 2. Processing data"
   ]
  },
  {
   "cell_type": "markdown",
   "metadata": {
    "papermill": {
     "duration": 0.021824,
     "end_time": "2021-03-14T14:09:12.970994",
     "exception": false,
     "start_time": "2021-03-14T14:09:12.949170",
     "status": "completed"
    },
    "tags": []
   },
   "source": [
    "### 2.1 Check missing values"
   ]
  },
  {
   "cell_type": "code",
   "execution_count": 6,
   "metadata": {
    "execution": {
     "iopub.execute_input": "2021-03-14T14:09:13.020865Z",
     "iopub.status.busy": "2021-03-14T14:09:13.019199Z",
     "iopub.status.idle": "2021-03-14T14:09:13.603673Z",
     "shell.execute_reply": "2021-03-14T14:09:13.602941Z"
    },
    "papermill": {
     "duration": 0.611584,
     "end_time": "2021-03-14T14:09:13.603823",
     "exception": false,
     "start_time": "2021-03-14T14:09:12.992239",
     "status": "completed"
    },
    "tags": []
   },
   "outputs": [
    {
     "data": {
      "text/plain": [
       "cat0      0\n",
       "cat1      0\n",
       "cat2      0\n",
       "cat3      0\n",
       "cat4      0\n",
       "cat5      0\n",
       "cat6      0\n",
       "cat7      0\n",
       "cat8      0\n",
       "cat9      0\n",
       "cat10     0\n",
       "cat11     0\n",
       "cat12     0\n",
       "cat13     0\n",
       "cat14     0\n",
       "cat15     0\n",
       "cat16     0\n",
       "cat17     0\n",
       "cat18     0\n",
       "cont0     0\n",
       "cont1     0\n",
       "cont2     0\n",
       "cont3     0\n",
       "cont4     0\n",
       "cont5     0\n",
       "cont6     0\n",
       "cont7     0\n",
       "cont8     0\n",
       "cont9     0\n",
       "cont10    0\n",
       "target    0\n",
       "dtype: int64"
      ]
     },
     "execution_count": 6,
     "metadata": {},
     "output_type": "execute_result"
    }
   ],
   "source": [
    "train.isnull().sum()"
   ]
  },
  {
   "cell_type": "code",
   "execution_count": 7,
   "metadata": {
    "execution": {
     "iopub.execute_input": "2021-03-14T14:09:13.653877Z",
     "iopub.status.busy": "2021-03-14T14:09:13.652733Z",
     "iopub.status.idle": "2021-03-14T14:09:14.048152Z",
     "shell.execute_reply": "2021-03-14T14:09:14.047460Z"
    },
    "papermill": {
     "duration": 0.42222,
     "end_time": "2021-03-14T14:09:14.048306",
     "exception": false,
     "start_time": "2021-03-14T14:09:13.626086",
     "status": "completed"
    },
    "tags": []
   },
   "outputs": [
    {
     "data": {
      "text/plain": [
       "cat0      0\n",
       "cat1      0\n",
       "cat2      0\n",
       "cat3      0\n",
       "cat4      0\n",
       "cat5      0\n",
       "cat6      0\n",
       "cat7      0\n",
       "cat8      0\n",
       "cat9      0\n",
       "cat10     0\n",
       "cat11     0\n",
       "cat12     0\n",
       "cat13     0\n",
       "cat14     0\n",
       "cat15     0\n",
       "cat16     0\n",
       "cat17     0\n",
       "cat18     0\n",
       "cont0     0\n",
       "cont1     0\n",
       "cont2     0\n",
       "cont3     0\n",
       "cont4     0\n",
       "cont5     0\n",
       "cont6     0\n",
       "cont7     0\n",
       "cont8     0\n",
       "cont9     0\n",
       "cont10    0\n",
       "dtype: int64"
      ]
     },
     "execution_count": 7,
     "metadata": {},
     "output_type": "execute_result"
    }
   ],
   "source": [
    "test.isnull().sum()"
   ]
  },
  {
   "cell_type": "markdown",
   "metadata": {
    "papermill": {
     "duration": 0.022167,
     "end_time": "2021-03-14T14:09:14.093520",
     "exception": false,
     "start_time": "2021-03-14T14:09:14.071353",
     "status": "completed"
    },
    "tags": []
   },
   "source": [
    "### 2.2 Numerical values "
   ]
  },
  {
   "cell_type": "code",
   "execution_count": 8,
   "metadata": {
    "execution": {
     "iopub.execute_input": "2021-03-14T14:09:14.162291Z",
     "iopub.status.busy": "2021-03-14T14:09:14.159309Z",
     "iopub.status.idle": "2021-03-14T14:09:20.089258Z",
     "shell.execute_reply": "2021-03-14T14:09:20.089762Z"
    },
    "papermill": {
     "duration": 5.973677,
     "end_time": "2021-03-14T14:09:20.089934",
     "exception": false,
     "start_time": "2021-03-14T14:09:14.116257",
     "status": "completed"
    },
    "tags": []
   },
   "outputs": [
    {
     "data": {
      "image/png": "[encoded data removed]",
      "text/plain": [
       "<Figure size 720x1008 with 10 Axes>"
      ]
     },
     "metadata": {
      "needs_background": "light"
     },
     "output_type": "display_data"
    }
   ],
   "source": [
    "num_col = ['cont1', 'cont2', 'cont3', 'cont4', 'cont5', 'cont6', 'cont7', 'cont8', 'cont9', 'cont10']\n",
    "fig = plt.figure(figsize=(10,14))\n",
    "\n",
    "for index, col in enumerate(num_col): \n",
    "    plt.subplot(5,2,index+1)\n",
    "    sns.histplot(train[num_col[index]],kde=False)\n",
    "fig.tight_layout(pad=1.0)"
   ]
  },
  {
   "cell_type": "code",
   "execution_count": 9,
   "metadata": {
    "execution": {
     "iopub.execute_input": "2021-03-14T14:09:20.168994Z",
     "iopub.status.busy": "2021-03-14T14:09:20.168055Z",
     "iopub.status.idle": "2021-03-14T14:09:21.386918Z",
     "shell.execute_reply": "2021-03-14T14:09:21.386409Z"
    },
    "papermill": {
     "duration": 1.271913,
     "end_time": "2021-03-14T14:09:21.387098",
     "exception": false,
     "start_time": "2021-03-14T14:09:20.115185",
     "status": "completed"
    },
    "tags": []
   },
   "outputs": [
    {
     "data": {
      "image/png": "[encoded data removed]",
      "text/plain": [
       "<Figure size 432x648 with 10 Axes>"
      ]
     },
     "metadata": {
      "needs_background": "light"
     },
     "output_type": "display_data"
    }
   ],
   "source": [
    "fig = plt.figure(figsize=(6,9))\n",
    "\n",
    "for index, col in enumerate(num_col): \n",
    "    plt.subplot(5,2,index+1)\n",
    "    sns.boxplot(data = train[num_col[index]])\n",
    "fig.tight_layout(pad=1.0)"
   ]
  },
  {
   "cell_type": "markdown",
   "metadata": {
    "papermill": {
     "duration": 0.025665,
     "end_time": "2021-03-14T14:09:21.439241",
     "exception": false,
     "start_time": "2021-03-14T14:09:21.413576",
     "status": "completed"
    },
    "tags": []
   },
   "source": [
    "### 2.3 Categorical columns"
   ]
  },
  {
   "cell_type": "code",
   "execution_count": 10,
   "metadata": {
    "execution": {
     "iopub.execute_input": "2021-03-14T14:09:21.547579Z",
     "iopub.status.busy": "2021-03-14T14:09:21.515147Z",
     "iopub.status.idle": "2021-03-14T14:09:47.540402Z",
     "shell.execute_reply": "2021-03-14T14:09:47.540909Z"
    },
    "papermill": {
     "duration": 26.075863,
     "end_time": "2021-03-14T14:09:47.541100",
     "exception": false,
     "start_time": "2021-03-14T14:09:21.465237",
     "status": "completed"
    },
    "tags": []
   },
   "outputs": [
    {
     "data": {
      "image/png": "[encoded data removed]",
      "text/plain": [
       "<Figure size 1296x1440 with 19 Axes>"
      ]
     },
     "metadata": {
      "needs_background": "light"
     },
     "output_type": "display_data"
    }
   ],
   "source": [
    "cat_col = ['cat0', 'cat1', 'cat2', 'cat3', 'cat4', 'cat5', 'cat6', 'cat7', 'cat8','cat9', \n",
    "           'cat10', 'cat11', 'cat12', 'cat13', 'cat14', 'cat15', 'cat16', 'cat17', 'cat18']\n",
    "\n",
    "fig = plt.figure(figsize=(18,20))\n",
    "for index in range(len(cat_col)):\n",
    "    plt.subplot(7,3,index+1)\n",
    "    sns.countplot(x=train[cat_col[index]], data=train[cat_col[index]])\n",
    "    plt.xticks(rotation=90)\n",
    "fig.tight_layout(pad=1.0)"
   ]
  },
  {
   "cell_type": "code",
   "execution_count": 11,
   "metadata": {
    "execution": {
     "iopub.execute_input": "2021-03-14T14:09:47.613106Z",
     "iopub.status.busy": "2021-03-14T14:09:47.611979Z",
     "iopub.status.idle": "2021-03-14T14:09:48.307720Z",
     "shell.execute_reply": "2021-03-14T14:09:48.306842Z"
    },
    "papermill": {
     "duration": 0.728646,
     "end_time": "2021-03-14T14:09:48.307943",
     "exception": false,
     "start_time": "2021-03-14T14:09:47.579297",
     "status": "completed"
    },
    "tags": []
   },
   "outputs": [
    {
     "name": "stdout",
     "output_type": "stream",
     "text": [
      "cat0：yes!\n",
      "cat1：yes!\n",
      "cat2：yes!\n",
      "cat3：yes!\n",
      "cat4：yes!\n",
      "cat5：yes!\n",
      "cat6：yes!\n",
      "cat7：yes!\n",
      "cat8：yes!\n",
      "cat9：yes!\n",
      "cat10：no!\n",
      "cat11：yes!\n",
      "cat12：yes!\n",
      "cat13：yes!\n",
      "cat14：yes!\n",
      "cat15：yes!\n",
      "cat16：yes!\n",
      "cat17：yes!\n",
      "cat18：yes!\n"
     ]
    }
   ],
   "source": [
    "# Check data leakage between train and test dataset\n",
    "\n",
    "for index in range(len(cat_col)):\n",
    "    train_value = train[cat_col[index]].unique()\n",
    "    test_value = test[cat_col[index]].unique()\n",
    "    if set(train_value) == set(test_value):\n",
    "        print('cat{}：yes!'.format(index))\n",
    "    else:\n",
    "        print('cat{}：no!'.format(index))"
   ]
  },
  {
   "cell_type": "code",
   "execution_count": 12,
   "metadata": {
    "execution": {
     "iopub.execute_input": "2021-03-14T14:09:48.513389Z",
     "iopub.status.busy": "2021-03-14T14:09:48.487511Z",
     "iopub.status.idle": "2021-03-14T14:09:48.516648Z",
     "shell.execute_reply": "2021-03-14T14:09:48.516088Z"
    },
    "papermill": {
     "duration": 0.166217,
     "end_time": "2021-03-14T14:09:48.516784",
     "exception": false,
     "start_time": "2021-03-14T14:09:48.350567",
     "status": "completed"
    },
    "tags": []
   },
   "outputs": [],
   "source": [
    "# Drop column 'cat10'\n",
    "\n",
    "train.drop('cat10', axis = 1, inplace = True)\n",
    "test.drop('cat10', axis = 1, inplace = True)"
   ]
  },
  {
   "cell_type": "code",
   "execution_count": 13,
   "metadata": {
    "execution": {
     "iopub.execute_input": "2021-03-14T14:09:48.591866Z",
     "iopub.status.busy": "2021-03-14T14:09:48.590809Z",
     "iopub.status.idle": "2021-03-14T14:09:48.595197Z",
     "shell.execute_reply": "2021-03-14T14:09:48.594214Z"
    },
    "papermill": {
     "duration": 0.043537,
     "end_time": "2021-03-14T14:09:48.595410",
     "exception": false,
     "start_time": "2021-03-14T14:09:48.551873",
     "status": "completed"
    },
    "tags": []
   },
   "outputs": [],
   "source": [
    "cat_col.remove('cat10')"
   ]
  },
  {
   "cell_type": "code",
   "execution_count": 14,
   "metadata": {
    "execution": {
     "iopub.execute_input": "2021-03-14T14:09:48.677631Z",
     "iopub.status.busy": "2021-03-14T14:09:48.676489Z",
     "iopub.status.idle": "2021-03-14T14:09:48.678939Z",
     "shell.execute_reply": "2021-03-14T14:09:48.679840Z"
    },
    "papermill": {
     "duration": 0.044258,
     "end_time": "2021-03-14T14:09:48.680124",
     "exception": false,
     "start_time": "2021-03-14T14:09:48.635866",
     "status": "completed"
    },
    "tags": []
   },
   "outputs": [],
   "source": [
    "# Remove values with counts less than 1000\n",
    "\n",
    "def rmv_vl(df, col_name):\n",
    "    \"\"\"\n",
    "    remove values with counts less than 1000\n",
    "    \n",
    "    Input: \n",
    "    df: dataframe\n",
    "    col_name\n",
    "    \n",
    "    Output:\n",
    "    df: dataframe    \n",
    "    \"\"\"\n",
    "    size_tol = df[col_name].shape[0]/300\n",
    "    index_list = df[col_name].value_counts().reset_index(name=\"count\").query('count< @size_tol')['index']\n",
    "    df.loc[df[col_name].isin (index_list),col_name] = 'others'\n",
    "    return df[col_name]"
   ]
  },
  {
   "cell_type": "code",
   "execution_count": 15,
   "metadata": {
    "execution": {
     "iopub.execute_input": "2021-03-14T14:09:48.752960Z",
     "iopub.status.busy": "2021-03-14T14:09:48.752001Z",
     "iopub.status.idle": "2021-03-14T14:09:55.787765Z",
     "shell.execute_reply": "2021-03-14T14:09:55.788300Z"
    },
    "papermill": {
     "duration": 7.071432,
     "end_time": "2021-03-14T14:09:55.788487",
     "exception": false,
     "start_time": "2021-03-14T14:09:48.717055",
     "status": "completed"
    },
    "tags": []
   },
   "outputs": [],
   "source": [
    "for col_name in cat_col:\n",
    "    train.loc[col_name] = rmv_vl(train, col_name)\n",
    "    test.loc[col_name] = rmv_vl(test, col_name)"
   ]
  },
  {
   "cell_type": "code",
   "execution_count": 16,
   "metadata": {
    "execution": {
     "iopub.execute_input": "2021-03-14T14:09:55.854917Z",
     "iopub.status.busy": "2021-03-14T14:09:55.853889Z",
     "iopub.status.idle": "2021-03-14T14:09:56.883254Z",
     "shell.execute_reply": "2021-03-14T14:09:56.883728Z"
    },
    "papermill": {
     "duration": 1.064373,
     "end_time": "2021-03-14T14:09:56.883912",
     "exception": false,
     "start_time": "2021-03-14T14:09:55.819539",
     "status": "completed"
    },
    "tags": []
   },
   "outputs": [],
   "source": [
    "train.dropna(inplace = True)\n",
    "test.dropna(inplace = True)"
   ]
  },
  {
   "cell_type": "code",
   "execution_count": 17,
   "metadata": {
    "execution": {
     "iopub.execute_input": "2021-03-14T14:09:56.950836Z",
     "iopub.status.busy": "2021-03-14T14:09:56.950148Z",
     "iopub.status.idle": "2021-03-14T14:10:11.924270Z",
     "shell.execute_reply": "2021-03-14T14:10:11.923720Z"
    },
    "papermill": {
     "duration": 15.009273,
     "end_time": "2021-03-14T14:10:11.924437",
     "exception": false,
     "start_time": "2021-03-14T14:09:56.915164",
     "status": "completed"
    },
    "tags": []
   },
   "outputs": [
    {
     "data": {
      "image/png": "[encoded data removed]",
      "text/plain": [
       "<Figure size 1296x1440 with 18 Axes>"
      ]
     },
     "metadata": {
      "needs_background": "light"
     },
     "output_type": "display_data"
    }
   ],
   "source": [
    "fig = plt.figure(figsize=(18,20))\n",
    "for index in range(len(cat_col)):\n",
    "    plt.subplot(7,3,index+1)\n",
    "    sns.countplot(x=train[cat_col[index]], data=train[cat_col[index]])\n",
    "    plt.xticks(rotation=90)\n",
    "fig.tight_layout(pad=1.0)"
   ]
  },
  {
   "cell_type": "markdown",
   "metadata": {
    "papermill": {
     "duration": 0.03444,
     "end_time": "2021-03-14T14:10:11.992954",
     "exception": false,
     "start_time": "2021-03-14T14:10:11.958514",
     "status": "completed"
    },
    "tags": []
   },
   "source": [
    "Based on the different distribution of each column, following actions are implemented: \n",
    "\n",
    "- **OneHotEncoder**: cat0, cat3, cat4, cat5, cat6, cat9, cat11, cat12, cat13, cat14, cat15, cat16, cat17, cat18\n",
    "- **LaberEncoder**: cat1, cat2, cat7, cat8"
   ]
  },
  {
   "cell_type": "code",
   "execution_count": 18,
   "metadata": {
    "execution": {
     "iopub.execute_input": "2021-03-14T14:10:12.068309Z",
     "iopub.status.busy": "2021-03-14T14:10:12.067261Z",
     "iopub.status.idle": "2021-03-14T14:10:12.069826Z",
     "shell.execute_reply": "2021-03-14T14:10:12.070289Z"
    },
    "papermill": {
     "duration": 0.042707,
     "end_time": "2021-03-14T14:10:12.070468",
     "exception": false,
     "start_time": "2021-03-14T14:10:12.027761",
     "status": "completed"
    },
    "tags": []
   },
   "outputs": [],
   "source": [
    "cat_col_lb = ['cat1', 'cat2', 'cat7', 'cat8']\n",
    "cat_col_ohe = list(set(cat_col) - set(cat_col_lb))"
   ]
  },
  {
   "cell_type": "code",
   "execution_count": 19,
   "metadata": {
    "execution": {
     "iopub.execute_input": "2021-03-14T14:10:12.144325Z",
     "iopub.status.busy": "2021-03-14T14:10:12.143354Z",
     "iopub.status.idle": "2021-03-14T14:10:13.914509Z",
     "shell.execute_reply": "2021-03-14T14:10:13.915014Z"
    },
    "papermill": {
     "duration": 1.809593,
     "end_time": "2021-03-14T14:10:13.915231",
     "exception": false,
     "start_time": "2021-03-14T14:10:12.105638",
     "status": "completed"
    },
    "tags": []
   },
   "outputs": [
    {
     "data": {
      "text/html": [
       "<div>\n",
       "<style scoped>\n",
       "    .dataframe tbody tr th:only-of-type {\n",
       "        vertical-align: middle;\n",
       "    }\n",
       "\n",
       "    .dataframe tbody tr th {\n",
       "        vertical-align: top;\n",
       "    }\n",
       "\n",
       "    .dataframe thead th {\n",
       "        text-align: right;\n",
       "    }\n",
       "</style>\n",
       "<table border=\"1\" class=\"dataframe\">\n",
       "  <thead>\n",
       "    <tr style=\"text-align: right;\">\n",
       "      <th></th>\n",
       "      <th>cat0</th>\n",
       "      <th>cat1</th>\n",
       "      <th>cat2</th>\n",
       "      <th>cat3</th>\n",
       "      <th>cat4</th>\n",
       "      <th>cat5</th>\n",
       "      <th>cat6</th>\n",
       "      <th>cat7</th>\n",
       "      <th>cat8</th>\n",
       "      <th>cat9</th>\n",
       "      <th>...</th>\n",
       "      <th>cont2</th>\n",
       "      <th>cont3</th>\n",
       "      <th>cont4</th>\n",
       "      <th>cont5</th>\n",
       "      <th>cont6</th>\n",
       "      <th>cont7</th>\n",
       "      <th>cont8</th>\n",
       "      <th>cont9</th>\n",
       "      <th>cont10</th>\n",
       "      <th>target</th>\n",
       "    </tr>\n",
       "    <tr>\n",
       "      <th>id</th>\n",
       "      <th></th>\n",
       "      <th></th>\n",
       "      <th></th>\n",
       "      <th></th>\n",
       "      <th></th>\n",
       "      <th></th>\n",
       "      <th></th>\n",
       "      <th></th>\n",
       "      <th></th>\n",
       "      <th></th>\n",
       "      <th></th>\n",
       "      <th></th>\n",
       "      <th></th>\n",
       "      <th></th>\n",
       "      <th></th>\n",
       "      <th></th>\n",
       "      <th></th>\n",
       "      <th></th>\n",
       "      <th></th>\n",
       "      <th></th>\n",
       "      <th></th>\n",
       "    </tr>\n",
       "  </thead>\n",
       "  <tbody>\n",
       "    <tr>\n",
       "      <th>0</th>\n",
       "      <td>A</td>\n",
       "      <td>6</td>\n",
       "      <td>0</td>\n",
       "      <td>B</td>\n",
       "      <td>others</td>\n",
       "      <td>BI</td>\n",
       "      <td>A</td>\n",
       "      <td>32</td>\n",
       "      <td>31</td>\n",
       "      <td>A</td>\n",
       "      <td>...</td>\n",
       "      <td>0.759439</td>\n",
       "      <td>0.795549</td>\n",
       "      <td>0.681917</td>\n",
       "      <td>0.621672</td>\n",
       "      <td>0.592184</td>\n",
       "      <td>0.791921</td>\n",
       "      <td>0.815254</td>\n",
       "      <td>0.965006</td>\n",
       "      <td>0.665915</td>\n",
       "      <td>0.0</td>\n",
       "    </tr>\n",
       "    <tr>\n",
       "      <th>1</th>\n",
       "      <td>A</td>\n",
       "      <td>6</td>\n",
       "      <td>0</td>\n",
       "      <td>A</td>\n",
       "      <td>E</td>\n",
       "      <td>BI</td>\n",
       "      <td>K</td>\n",
       "      <td>35</td>\n",
       "      <td>1</td>\n",
       "      <td>F</td>\n",
       "      <td>...</td>\n",
       "      <td>0.386385</td>\n",
       "      <td>0.541366</td>\n",
       "      <td>0.388982</td>\n",
       "      <td>0.357778</td>\n",
       "      <td>0.600044</td>\n",
       "      <td>0.408701</td>\n",
       "      <td>0.399353</td>\n",
       "      <td>0.927406</td>\n",
       "      <td>0.493729</td>\n",
       "      <td>0.0</td>\n",
       "    </tr>\n",
       "    <tr>\n",
       "      <th>2</th>\n",
       "      <td>A</td>\n",
       "      <td>8</td>\n",
       "      <td>0</td>\n",
       "      <td>A</td>\n",
       "      <td>E</td>\n",
       "      <td>BI</td>\n",
       "      <td>A</td>\n",
       "      <td>21</td>\n",
       "      <td>20</td>\n",
       "      <td>L</td>\n",
       "      <td>...</td>\n",
       "      <td>0.343255</td>\n",
       "      <td>0.616352</td>\n",
       "      <td>0.793687</td>\n",
       "      <td>0.552877</td>\n",
       "      <td>0.352113</td>\n",
       "      <td>0.388835</td>\n",
       "      <td>0.412303</td>\n",
       "      <td>0.292696</td>\n",
       "      <td>0.549452</td>\n",
       "      <td>0.0</td>\n",
       "    </tr>\n",
       "    <tr>\n",
       "      <th>3</th>\n",
       "      <td>A</td>\n",
       "      <td>8</td>\n",
       "      <td>0</td>\n",
       "      <td>C</td>\n",
       "      <td>E</td>\n",
       "      <td>BI</td>\n",
       "      <td>A</td>\n",
       "      <td>36</td>\n",
       "      <td>1</td>\n",
       "      <td>F</td>\n",
       "      <td>...</td>\n",
       "      <td>0.831147</td>\n",
       "      <td>0.807807</td>\n",
       "      <td>0.800032</td>\n",
       "      <td>0.619147</td>\n",
       "      <td>0.221789</td>\n",
       "      <td>0.897617</td>\n",
       "      <td>0.633669</td>\n",
       "      <td>0.760318</td>\n",
       "      <td>0.934242</td>\n",
       "      <td>0.0</td>\n",
       "    </tr>\n",
       "    <tr>\n",
       "      <th>4</th>\n",
       "      <td>A</td>\n",
       "      <td>6</td>\n",
       "      <td>4</td>\n",
       "      <td>B</td>\n",
       "      <td>E</td>\n",
       "      <td>BI</td>\n",
       "      <td>C</td>\n",
       "      <td>23</td>\n",
       "      <td>31</td>\n",
       "      <td>A</td>\n",
       "      <td>...</td>\n",
       "      <td>0.338818</td>\n",
       "      <td>0.277308</td>\n",
       "      <td>0.610578</td>\n",
       "      <td>0.128291</td>\n",
       "      <td>0.578764</td>\n",
       "      <td>0.279167</td>\n",
       "      <td>0.351103</td>\n",
       "      <td>0.357084</td>\n",
       "      <td>0.328960</td>\n",
       "      <td>1.0</td>\n",
       "    </tr>\n",
       "  </tbody>\n",
       "</table>\n",
       "<p>5 rows × 30 columns</p>\n",
       "</div>"
      ],
      "text/plain": [
       "   cat0  cat1  cat2 cat3    cat4 cat5 cat6  cat7  cat8 cat9  ...     cont2  \\\n",
       "id                                                           ...             \n",
       "0     A     6     0    B  others   BI    A    32    31    A  ...  0.759439   \n",
       "1     A     6     0    A       E   BI    K    35     1    F  ...  0.386385   \n",
       "2     A     8     0    A       E   BI    A    21    20    L  ...  0.343255   \n",
       "3     A     8     0    C       E   BI    A    36     1    F  ...  0.831147   \n",
       "4     A     6     4    B       E   BI    C    23    31    A  ...  0.338818   \n",
       "\n",
       "       cont3     cont4     cont5     cont6     cont7     cont8     cont9  \\\n",
       "id                                                                         \n",
       "0   0.795549  0.681917  0.621672  0.592184  0.791921  0.815254  0.965006   \n",
       "1   0.541366  0.388982  0.357778  0.600044  0.408701  0.399353  0.927406   \n",
       "2   0.616352  0.793687  0.552877  0.352113  0.388835  0.412303  0.292696   \n",
       "3   0.807807  0.800032  0.619147  0.221789  0.897617  0.633669  0.760318   \n",
       "4   0.277308  0.610578  0.128291  0.578764  0.279167  0.351103  0.357084   \n",
       "\n",
       "      cont10  target  \n",
       "id                    \n",
       "0   0.665915     0.0  \n",
       "1   0.493729     0.0  \n",
       "2   0.549452     0.0  \n",
       "3   0.934242     0.0  \n",
       "4   0.328960     1.0  \n",
       "\n",
       "[5 rows x 30 columns]"
      ]
     },
     "metadata": {},
     "output_type": "display_data"
    }
   ],
   "source": [
    "for c in cat_col_lb:\n",
    "    lbl = LabelEncoder()\n",
    "    lbl.fit(list(train[c].values) + list(test[c].values))\n",
    "    train[c] = lbl.transform(train[c].values)\n",
    "    test[c] = lbl.transform(test[c].values)\n",
    "        \n",
    "display(train.head())"
   ]
  },
  {
   "cell_type": "code",
   "execution_count": 20,
   "metadata": {
    "execution": {
     "iopub.execute_input": "2021-03-14T14:10:13.997447Z",
     "iopub.status.busy": "2021-03-14T14:10:13.995626Z",
     "iopub.status.idle": "2021-03-14T14:10:17.961633Z",
     "shell.execute_reply": "2021-03-14T14:10:17.960795Z"
    },
    "papermill": {
     "duration": 4.010419,
     "end_time": "2021-03-14T14:10:17.961797",
     "exception": false,
     "start_time": "2021-03-14T14:10:13.951378",
     "status": "completed"
    },
    "tags": []
   },
   "outputs": [
    {
     "data": {
      "text/html": [
       "<div>\n",
       "<style scoped>\n",
       "    .dataframe tbody tr th:only-of-type {\n",
       "        vertical-align: middle;\n",
       "    }\n",
       "\n",
       "    .dataframe tbody tr th {\n",
       "        vertical-align: top;\n",
       "    }\n",
       "\n",
       "    .dataframe thead th {\n",
       "        text-align: right;\n",
       "    }\n",
       "</style>\n",
       "<table border=\"1\" class=\"dataframe\">\n",
       "  <thead>\n",
       "    <tr style=\"text-align: right;\">\n",
       "      <th></th>\n",
       "      <th>0</th>\n",
       "      <th>1</th>\n",
       "      <th>2</th>\n",
       "      <th>3</th>\n",
       "      <th>4</th>\n",
       "      <th>5</th>\n",
       "      <th>6</th>\n",
       "      <th>7</th>\n",
       "      <th>8</th>\n",
       "      <th>9</th>\n",
       "      <th>...</th>\n",
       "      <th>54</th>\n",
       "      <th>55</th>\n",
       "      <th>56</th>\n",
       "      <th>57</th>\n",
       "      <th>58</th>\n",
       "      <th>59</th>\n",
       "      <th>60</th>\n",
       "      <th>61</th>\n",
       "      <th>62</th>\n",
       "      <th>63</th>\n",
       "    </tr>\n",
       "    <tr>\n",
       "      <th>id</th>\n",
       "      <th></th>\n",
       "      <th></th>\n",
       "      <th></th>\n",
       "      <th></th>\n",
       "      <th></th>\n",
       "      <th></th>\n",
       "      <th></th>\n",
       "      <th></th>\n",
       "      <th></th>\n",
       "      <th></th>\n",
       "      <th></th>\n",
       "      <th></th>\n",
       "      <th></th>\n",
       "      <th></th>\n",
       "      <th></th>\n",
       "      <th></th>\n",
       "      <th></th>\n",
       "      <th></th>\n",
       "      <th></th>\n",
       "      <th></th>\n",
       "      <th></th>\n",
       "    </tr>\n",
       "  </thead>\n",
       "  <tbody>\n",
       "    <tr>\n",
       "      <th>0</th>\n",
       "      <td>1.0</td>\n",
       "      <td>0.0</td>\n",
       "      <td>1.0</td>\n",
       "      <td>0.0</td>\n",
       "      <td>1.0</td>\n",
       "      <td>0.0</td>\n",
       "      <td>1.0</td>\n",
       "      <td>0.0</td>\n",
       "      <td>0.0</td>\n",
       "      <td>0.0</td>\n",
       "      <td>...</td>\n",
       "      <td>0.0</td>\n",
       "      <td>0.0</td>\n",
       "      <td>0.0</td>\n",
       "      <td>0.0</td>\n",
       "      <td>0.0</td>\n",
       "      <td>0.0</td>\n",
       "      <td>0.0</td>\n",
       "      <td>0.0</td>\n",
       "      <td>1.0</td>\n",
       "      <td>0.0</td>\n",
       "    </tr>\n",
       "    <tr>\n",
       "      <th>1</th>\n",
       "      <td>0.0</td>\n",
       "      <td>1.0</td>\n",
       "      <td>0.0</td>\n",
       "      <td>1.0</td>\n",
       "      <td>1.0</td>\n",
       "      <td>0.0</td>\n",
       "      <td>1.0</td>\n",
       "      <td>0.0</td>\n",
       "      <td>0.0</td>\n",
       "      <td>0.0</td>\n",
       "      <td>...</td>\n",
       "      <td>0.0</td>\n",
       "      <td>0.0</td>\n",
       "      <td>1.0</td>\n",
       "      <td>0.0</td>\n",
       "      <td>0.0</td>\n",
       "      <td>0.0</td>\n",
       "      <td>0.0</td>\n",
       "      <td>0.0</td>\n",
       "      <td>1.0</td>\n",
       "      <td>0.0</td>\n",
       "    </tr>\n",
       "    <tr>\n",
       "      <th>2</th>\n",
       "      <td>0.0</td>\n",
       "      <td>1.0</td>\n",
       "      <td>1.0</td>\n",
       "      <td>0.0</td>\n",
       "      <td>1.0</td>\n",
       "      <td>0.0</td>\n",
       "      <td>1.0</td>\n",
       "      <td>0.0</td>\n",
       "      <td>0.0</td>\n",
       "      <td>0.0</td>\n",
       "      <td>...</td>\n",
       "      <td>0.0</td>\n",
       "      <td>0.0</td>\n",
       "      <td>0.0</td>\n",
       "      <td>0.0</td>\n",
       "      <td>0.0</td>\n",
       "      <td>1.0</td>\n",
       "      <td>0.0</td>\n",
       "      <td>0.0</td>\n",
       "      <td>1.0</td>\n",
       "      <td>0.0</td>\n",
       "    </tr>\n",
       "    <tr>\n",
       "      <th>3</th>\n",
       "      <td>1.0</td>\n",
       "      <td>0.0</td>\n",
       "      <td>1.0</td>\n",
       "      <td>0.0</td>\n",
       "      <td>1.0</td>\n",
       "      <td>0.0</td>\n",
       "      <td>1.0</td>\n",
       "      <td>0.0</td>\n",
       "      <td>0.0</td>\n",
       "      <td>0.0</td>\n",
       "      <td>...</td>\n",
       "      <td>0.0</td>\n",
       "      <td>0.0</td>\n",
       "      <td>1.0</td>\n",
       "      <td>0.0</td>\n",
       "      <td>0.0</td>\n",
       "      <td>0.0</td>\n",
       "      <td>0.0</td>\n",
       "      <td>0.0</td>\n",
       "      <td>1.0</td>\n",
       "      <td>0.0</td>\n",
       "    </tr>\n",
       "    <tr>\n",
       "      <th>4</th>\n",
       "      <td>1.0</td>\n",
       "      <td>0.0</td>\n",
       "      <td>0.0</td>\n",
       "      <td>1.0</td>\n",
       "      <td>1.0</td>\n",
       "      <td>0.0</td>\n",
       "      <td>1.0</td>\n",
       "      <td>0.0</td>\n",
       "      <td>0.0</td>\n",
       "      <td>0.0</td>\n",
       "      <td>...</td>\n",
       "      <td>0.0</td>\n",
       "      <td>0.0</td>\n",
       "      <td>0.0</td>\n",
       "      <td>0.0</td>\n",
       "      <td>0.0</td>\n",
       "      <td>0.0</td>\n",
       "      <td>0.0</td>\n",
       "      <td>0.0</td>\n",
       "      <td>1.0</td>\n",
       "      <td>0.0</td>\n",
       "    </tr>\n",
       "  </tbody>\n",
       "</table>\n",
       "<p>5 rows × 64 columns</p>\n",
       "</div>"
      ],
      "text/plain": [
       "     0    1    2    3    4    5    6    7    8    9   ...   54   55   56   57  \\\n",
       "id                                                    ...                       \n",
       "0   1.0  0.0  1.0  0.0  1.0  0.0  1.0  0.0  0.0  0.0  ...  0.0  0.0  0.0  0.0   \n",
       "1   0.0  1.0  0.0  1.0  1.0  0.0  1.0  0.0  0.0  0.0  ...  0.0  0.0  1.0  0.0   \n",
       "2   0.0  1.0  1.0  0.0  1.0  0.0  1.0  0.0  0.0  0.0  ...  0.0  0.0  0.0  0.0   \n",
       "3   1.0  0.0  1.0  0.0  1.0  0.0  1.0  0.0  0.0  0.0  ...  0.0  0.0  1.0  0.0   \n",
       "4   1.0  0.0  0.0  1.0  1.0  0.0  1.0  0.0  0.0  0.0  ...  0.0  0.0  0.0  0.0   \n",
       "\n",
       "     58   59   60   61   62   63  \n",
       "id                                \n",
       "0   0.0  0.0  0.0  0.0  1.0  0.0  \n",
       "1   0.0  0.0  0.0  0.0  1.0  0.0  \n",
       "2   0.0  1.0  0.0  0.0  1.0  0.0  \n",
       "3   0.0  0.0  0.0  0.0  1.0  0.0  \n",
       "4   0.0  0.0  0.0  0.0  1.0  0.0  \n",
       "\n",
       "[5 rows x 64 columns]"
      ]
     },
     "metadata": {},
     "output_type": "display_data"
    }
   ],
   "source": [
    "ohe = OneHotEncoder(handle_unknown='ignore', sparse=False)\n",
    "ohe.fit(pd.concat([train[cat_col_ohe], test[cat_col_ohe]], axis = 0))\n",
    "ohe_train = pd.DataFrame(ohe.transform(train[cat_col_ohe]))\n",
    "ohe_train.index = train.index\n",
    "ohe_test = pd.DataFrame(ohe.transform(test[cat_col_ohe]))\n",
    "ohe_test.index = test.index\n",
    "display(ohe_train.head())"
   ]
  },
  {
   "cell_type": "code",
   "execution_count": 21,
   "metadata": {
    "execution": {
     "iopub.execute_input": "2021-03-14T14:10:18.107074Z",
     "iopub.status.busy": "2021-03-14T14:10:18.105704Z",
     "iopub.status.idle": "2021-03-14T14:10:18.819333Z",
     "shell.execute_reply": "2021-03-14T14:10:18.818678Z"
    },
    "papermill": {
     "duration": 0.821557,
     "end_time": "2021-03-14T14:10:18.819482",
     "exception": false,
     "start_time": "2021-03-14T14:10:17.997925",
     "status": "completed"
    },
    "tags": []
   },
   "outputs": [],
   "source": [
    "train_final = pd.concat([train.drop(cat_col_ohe,axis = 1), ohe_train],axis = 1)\n",
    "test_final = pd.concat([test.drop(cat_col_ohe,axis = 1), ohe_test],axis = 1)"
   ]
  },
  {
   "cell_type": "markdown",
   "metadata": {
    "papermill": {
     "duration": 0.035526,
     "end_time": "2021-03-14T14:10:18.891761",
     "exception": false,
     "start_time": "2021-03-14T14:10:18.856235",
     "status": "completed"
    },
    "tags": []
   },
   "source": [
    "## Pull out the target, and make a validation split"
   ]
  },
  {
   "cell_type": "code",
   "execution_count": 22,
   "metadata": {
    "execution": {
     "iopub.execute_input": "2021-03-14T14:10:18.969750Z",
     "iopub.status.busy": "2021-03-14T14:10:18.968936Z",
     "iopub.status.idle": "2021-03-14T14:10:19.431261Z",
     "shell.execute_reply": "2021-03-14T14:10:19.430613Z"
    },
    "papermill": {
     "duration": 0.503706,
     "end_time": "2021-03-14T14:10:19.431418",
     "exception": false,
     "start_time": "2021-03-14T14:10:18.927712",
     "status": "completed"
    },
    "tags": []
   },
   "outputs": [],
   "source": [
    "y = train_final.pop('target')\n",
    "X_train, X_test, y_train, y_test = train_test_split(train_final, y, train_size=0.70)"
   ]
  },
  {
   "cell_type": "markdown",
   "metadata": {
    "papermill": {
     "duration": 0.036513,
     "end_time": "2021-03-14T14:10:19.504200",
     "exception": false,
     "start_time": "2021-03-14T14:10:19.467687",
     "status": "completed"
    },
    "tags": []
   },
   "source": [
    "XGBost\n"
   ]
  },
  {
   "cell_type": "code",
   "execution_count": 23,
   "metadata": {
    "execution": {
     "iopub.execute_input": "2021-03-14T14:10:19.616798Z",
     "iopub.status.busy": "2021-03-14T14:10:19.616084Z",
     "iopub.status.idle": "2021-03-14T14:24:50.504100Z",
     "shell.execute_reply": "2021-03-14T14:24:50.504845Z"
    },
    "papermill": {
     "duration": 870.94927,
     "end_time": "2021-03-14T14:24:50.505104",
     "exception": false,
     "start_time": "2021-03-14T14:10:19.555834",
     "status": "completed"
    },
    "tags": []
   },
   "outputs": [
    {
     "name": "stdout",
     "output_type": "stream",
     "text": [
      "0.88820\n"
     ]
    }
   ],
   "source": [
    "from xgboost import XGBClassifier\n",
    "my_model = XGBClassifier(eval_metric = 'auc', \n",
    "                         random_state = 42,\n",
    "                         use_label_encoder = False,\n",
    "                         n_estimators=10000, \n",
    "                         learning_rate=0.01, \n",
    "                         n_jobs=-1)\n",
    "\n",
    "my_model.fit(X_train, y_train, \n",
    "             early_stopping_rounds=5, \n",
    "             eval_set=[(X_test, y_test)], \n",
    "             verbose=False)\n",
    "y_pred = my_model.predict_proba(X_test)[:, 1] # This grabs the positive class prediction\n",
    "score = roc_auc_score(y_test, y_pred)\n",
    "print(f'{score:0.5f}') # 0.87323 shows we're doing better than a dummy model"
   ]
  },
  {
   "cell_type": "code",
   "execution_count": 24,
   "metadata": {
    "execution": {
     "iopub.execute_input": "2021-03-14T14:24:50.586182Z",
     "iopub.status.busy": "2021-03-14T14:24:50.585530Z",
     "iopub.status.idle": "2021-03-14T14:24:55.344902Z",
     "shell.execute_reply": "2021-03-14T14:24:55.343613Z"
    },
    "papermill": {
     "duration": 4.799006,
     "end_time": "2021-03-14T14:24:55.345139",
     "exception": false,
     "start_time": "2021-03-14T14:24:50.546133",
     "status": "completed"
    },
    "tags": []
   },
   "outputs": [],
   "source": [
    "submission['target'] = my_model.predict_proba(test_final)[:, 1]\n",
    "submission.to_csv('random_forest8.csv')"
   ]
  }
 ],
 "metadata": {
  "kernelspec": {
   "display_name": "Python 3",
   "language": "python",
   "name": "python3"
  },
  "language_info": {
   "codemirror_mode": {
    "name": "ipython",
    "version": 3
   },
   "file_extension": ".py",
   "mimetype": "text/x-python",
   "name": "python",
   "nbconvert_exporter": "python",
   "pygments_lexer": "ipython3",
   "version": "3.7.9"
  },
  "papermill": {
   "default_parameters": {},
   "duration": 957.270053,
   "end_time": "2021-03-14T14:24:57.359274",
   "environment_variables": {},
   "exception": null,
   "input_path": "__notebook__.ipynb",
   "output_path": "__notebook__.ipynb",
   "parameters": {},
   "start_time": "2021-03-14T14:09:00.089221",
   "version": "2.2.2"
  }
 },
 "nbformat": 4,
 "nbformat_minor": 4
}
